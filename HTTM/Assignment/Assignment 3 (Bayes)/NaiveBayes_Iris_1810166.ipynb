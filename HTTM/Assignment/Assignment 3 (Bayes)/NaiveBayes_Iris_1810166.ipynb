{
  "nbformat": 4,
  "nbformat_minor": 0,
  "metadata": {
    "colab": {
      "name": "NaiveBayes_Iris_1810166.ipynb",
      "provenance": [],
      "collapsed_sections": [],
      "toc_visible": true
    },
    "kernelspec": {
      "name": "python3",
      "display_name": "Python 3"
    },
    "language_info": {
      "name": "python"
    }
  },
  "cells": [
    {
      "cell_type": "markdown",
      "metadata": {
        "id": "Cr2k3jG9TuHa"
      },
      "source": [
        "# Bài tập Naive Bayes"
      ]
    },
    {
      "cell_type": "markdown",
      "metadata": {
        "id": "p_2CPg6tTzXP"
      },
      "source": [
        "## Sử dụng GaussianNB để phân nhóm cho tập Iris dataset\n",
        "* dataset: 'Iris.csv'"
      ]
    },
    {
      "cell_type": "markdown",
      "metadata": {
        "id": "kL-eWphmUTBj"
      },
      "source": [
        "## Importing Libaries"
      ]
    },
    {
      "cell_type": "code",
      "metadata": {
        "id": "n_xDvMX6UYRh"
      },
      "source": [
        "import numpy as np\n",
        "import matplotlib.pyplot as plt\n",
        "from collections import Counter\n",
        "from sklearn import feature_extraction, model_selection, naive_bayes, metrics, svm\n",
        "from sklearn.metrics import confusion_matrix,auc,roc_auc_score\n",
        "from sklearn.metrics import recall_score, precision_score, accuracy_score, f1_score\n",
        "from IPython.display import Image\n",
        "import warnings\n",
        "warnings.filterwarnings(\"ignore\")\n",
        "%matplotlib inline  "
      ],
      "execution_count": 1,
      "outputs": []
    },
    {
      "cell_type": "markdown",
      "metadata": {
        "id": "8H3VDxORUb3b"
      },
      "source": [
        "## Loading dataset"
      ]
    },
    {
      "cell_type": "code",
      "metadata": {
        "id": "G2vrTypVT7vn"
      },
      "source": [
        "import pandas as pd\n",
        "data = pd.read_csv('Iris.csv')"
      ],
      "execution_count": 2,
      "outputs": []
    },
    {
      "cell_type": "code",
      "metadata": {
        "id": "f9EL4sZ_UCVV",
        "colab": {
          "base_uri": "https://localhost:8080/"
        },
        "outputId": "7f669f30-4742-488c-95a3-e624b07f639a"
      },
      "source": [
        "data.iloc[2]"
      ],
      "execution_count": 3,
      "outputs": [
        {
          "output_type": "execute_result",
          "data": {
            "text/plain": [
              "Id                         3\n",
              "SepalLengthCm            4.7\n",
              "SepalWidthCm             3.2\n",
              "PetalLengthCm            1.3\n",
              "PetalWidthCm             0.2\n",
              "Species          Iris-setosa\n",
              "Name: 2, dtype: object"
            ]
          },
          "metadata": {
            "tags": []
          },
          "execution_count": 3
        }
      ]
    },
    {
      "cell_type": "markdown",
      "metadata": {
        "id": "cx7h9vYOVHbF"
      },
      "source": [
        "There are 3 labels:\n",
        "* `Iris-setosa`\n",
        "* `Iris-versicolor`\n",
        "* `Iris-virginica`"
      ]
    },
    {
      "cell_type": "markdown",
      "metadata": {
        "id": "UKcMapo6dpMO"
      },
      "source": [
        "## Analyze dataset"
      ]
    },
    {
      "cell_type": "code",
      "metadata": {
        "id": "fBi7EGnqdu-x",
        "colab": {
          "base_uri": "https://localhost:8080/"
        },
        "outputId": "4bcf20ed-46c2-458f-d849-df1215146f71"
      },
      "source": [
        "data.shape"
      ],
      "execution_count": 4,
      "outputs": [
        {
          "output_type": "execute_result",
          "data": {
            "text/plain": [
              "(150, 6)"
            ]
          },
          "metadata": {
            "tags": []
          },
          "execution_count": 4
        }
      ]
    },
    {
      "cell_type": "code",
      "metadata": {
        "id": "ezF_HsJfdygV",
        "colab": {
          "base_uri": "https://localhost:8080/",
          "height": 359
        },
        "outputId": "a55f8e5d-59e4-4833-f86e-01dbe85aa23d"
      },
      "source": [
        "data.head(10)"
      ],
      "execution_count": 5,
      "outputs": [
        {
          "output_type": "execute_result",
          "data": {
            "text/html": [
              "<div>\n",
              "<style scoped>\n",
              "    .dataframe tbody tr th:only-of-type {\n",
              "        vertical-align: middle;\n",
              "    }\n",
              "\n",
              "    .dataframe tbody tr th {\n",
              "        vertical-align: top;\n",
              "    }\n",
              "\n",
              "    .dataframe thead th {\n",
              "        text-align: right;\n",
              "    }\n",
              "</style>\n",
              "<table border=\"1\" class=\"dataframe\">\n",
              "  <thead>\n",
              "    <tr style=\"text-align: right;\">\n",
              "      <th></th>\n",
              "      <th>Id</th>\n",
              "      <th>SepalLengthCm</th>\n",
              "      <th>SepalWidthCm</th>\n",
              "      <th>PetalLengthCm</th>\n",
              "      <th>PetalWidthCm</th>\n",
              "      <th>Species</th>\n",
              "    </tr>\n",
              "  </thead>\n",
              "  <tbody>\n",
              "    <tr>\n",
              "      <th>0</th>\n",
              "      <td>1</td>\n",
              "      <td>5.1</td>\n",
              "      <td>3.5</td>\n",
              "      <td>1.4</td>\n",
              "      <td>0.2</td>\n",
              "      <td>Iris-setosa</td>\n",
              "    </tr>\n",
              "    <tr>\n",
              "      <th>1</th>\n",
              "      <td>2</td>\n",
              "      <td>4.9</td>\n",
              "      <td>3.0</td>\n",
              "      <td>1.4</td>\n",
              "      <td>0.2</td>\n",
              "      <td>Iris-setosa</td>\n",
              "    </tr>\n",
              "    <tr>\n",
              "      <th>2</th>\n",
              "      <td>3</td>\n",
              "      <td>4.7</td>\n",
              "      <td>3.2</td>\n",
              "      <td>1.3</td>\n",
              "      <td>0.2</td>\n",
              "      <td>Iris-setosa</td>\n",
              "    </tr>\n",
              "    <tr>\n",
              "      <th>3</th>\n",
              "      <td>4</td>\n",
              "      <td>4.6</td>\n",
              "      <td>3.1</td>\n",
              "      <td>1.5</td>\n",
              "      <td>0.2</td>\n",
              "      <td>Iris-setosa</td>\n",
              "    </tr>\n",
              "    <tr>\n",
              "      <th>4</th>\n",
              "      <td>5</td>\n",
              "      <td>5.0</td>\n",
              "      <td>3.6</td>\n",
              "      <td>1.4</td>\n",
              "      <td>0.2</td>\n",
              "      <td>Iris-setosa</td>\n",
              "    </tr>\n",
              "    <tr>\n",
              "      <th>5</th>\n",
              "      <td>6</td>\n",
              "      <td>5.4</td>\n",
              "      <td>3.9</td>\n",
              "      <td>1.7</td>\n",
              "      <td>0.4</td>\n",
              "      <td>Iris-setosa</td>\n",
              "    </tr>\n",
              "    <tr>\n",
              "      <th>6</th>\n",
              "      <td>7</td>\n",
              "      <td>4.6</td>\n",
              "      <td>3.4</td>\n",
              "      <td>1.4</td>\n",
              "      <td>0.3</td>\n",
              "      <td>Iris-setosa</td>\n",
              "    </tr>\n",
              "    <tr>\n",
              "      <th>7</th>\n",
              "      <td>8</td>\n",
              "      <td>5.0</td>\n",
              "      <td>3.4</td>\n",
              "      <td>1.5</td>\n",
              "      <td>0.2</td>\n",
              "      <td>Iris-setosa</td>\n",
              "    </tr>\n",
              "    <tr>\n",
              "      <th>8</th>\n",
              "      <td>9</td>\n",
              "      <td>4.4</td>\n",
              "      <td>2.9</td>\n",
              "      <td>1.4</td>\n",
              "      <td>0.2</td>\n",
              "      <td>Iris-setosa</td>\n",
              "    </tr>\n",
              "    <tr>\n",
              "      <th>9</th>\n",
              "      <td>10</td>\n",
              "      <td>4.9</td>\n",
              "      <td>3.1</td>\n",
              "      <td>1.5</td>\n",
              "      <td>0.1</td>\n",
              "      <td>Iris-setosa</td>\n",
              "    </tr>\n",
              "  </tbody>\n",
              "</table>\n",
              "</div>"
            ],
            "text/plain": [
              "   Id  SepalLengthCm  SepalWidthCm  PetalLengthCm  PetalWidthCm      Species\n",
              "0   1            5.1           3.5            1.4           0.2  Iris-setosa\n",
              "1   2            4.9           3.0            1.4           0.2  Iris-setosa\n",
              "2   3            4.7           3.2            1.3           0.2  Iris-setosa\n",
              "3   4            4.6           3.1            1.5           0.2  Iris-setosa\n",
              "4   5            5.0           3.6            1.4           0.2  Iris-setosa\n",
              "5   6            5.4           3.9            1.7           0.4  Iris-setosa\n",
              "6   7            4.6           3.4            1.4           0.3  Iris-setosa\n",
              "7   8            5.0           3.4            1.5           0.2  Iris-setosa\n",
              "8   9            4.4           2.9            1.4           0.2  Iris-setosa\n",
              "9  10            4.9           3.1            1.5           0.1  Iris-setosa"
            ]
          },
          "metadata": {
            "tags": []
          },
          "execution_count": 5
        }
      ]
    },
    {
      "cell_type": "code",
      "metadata": {
        "id": "iqWJVtjsd1_f",
        "colab": {
          "base_uri": "https://localhost:8080/"
        },
        "outputId": "d87d6084-d488-4772-8f20-83cc5aebc2eb"
      },
      "source": [
        "data.info()"
      ],
      "execution_count": 6,
      "outputs": [
        {
          "output_type": "stream",
          "text": [
            "<class 'pandas.core.frame.DataFrame'>\n",
            "RangeIndex: 150 entries, 0 to 149\n",
            "Data columns (total 6 columns):\n",
            " #   Column         Non-Null Count  Dtype  \n",
            "---  ------         --------------  -----  \n",
            " 0   Id             150 non-null    int64  \n",
            " 1   SepalLengthCm  150 non-null    float64\n",
            " 2   SepalWidthCm   150 non-null    float64\n",
            " 3   PetalLengthCm  150 non-null    float64\n",
            " 4   PetalWidthCm   150 non-null    float64\n",
            " 5   Species        150 non-null    object \n",
            "dtypes: float64(4), int64(1), object(1)\n",
            "memory usage: 7.2+ KB\n"
          ],
          "name": "stdout"
        }
      ]
    },
    {
      "cell_type": "code",
      "metadata": {
        "id": "ykLftstid40A",
        "colab": {
          "base_uri": "https://localhost:8080/"
        },
        "outputId": "598b3c0e-7310-4a88-fd39-4094edbae29a"
      },
      "source": [
        "data.dtypes"
      ],
      "execution_count": 7,
      "outputs": [
        {
          "output_type": "execute_result",
          "data": {
            "text/plain": [
              "Id                 int64\n",
              "SepalLengthCm    float64\n",
              "SepalWidthCm     float64\n",
              "PetalLengthCm    float64\n",
              "PetalWidthCm     float64\n",
              "Species           object\n",
              "dtype: object"
            ]
          },
          "metadata": {
            "tags": []
          },
          "execution_count": 7
        }
      ]
    },
    {
      "cell_type": "code",
      "metadata": {
        "id": "vTQpc_odd7ue",
        "colab": {
          "base_uri": "https://localhost:8080/",
          "height": 297
        },
        "outputId": "0bb1b2f4-6f4c-47f3-cc37-1c6be14aca37"
      },
      "source": [
        "data.describe()"
      ],
      "execution_count": 8,
      "outputs": [
        {
          "output_type": "execute_result",
          "data": {
            "text/html": [
              "<div>\n",
              "<style scoped>\n",
              "    .dataframe tbody tr th:only-of-type {\n",
              "        vertical-align: middle;\n",
              "    }\n",
              "\n",
              "    .dataframe tbody tr th {\n",
              "        vertical-align: top;\n",
              "    }\n",
              "\n",
              "    .dataframe thead th {\n",
              "        text-align: right;\n",
              "    }\n",
              "</style>\n",
              "<table border=\"1\" class=\"dataframe\">\n",
              "  <thead>\n",
              "    <tr style=\"text-align: right;\">\n",
              "      <th></th>\n",
              "      <th>Id</th>\n",
              "      <th>SepalLengthCm</th>\n",
              "      <th>SepalWidthCm</th>\n",
              "      <th>PetalLengthCm</th>\n",
              "      <th>PetalWidthCm</th>\n",
              "    </tr>\n",
              "  </thead>\n",
              "  <tbody>\n",
              "    <tr>\n",
              "      <th>count</th>\n",
              "      <td>150.000000</td>\n",
              "      <td>150.000000</td>\n",
              "      <td>150.000000</td>\n",
              "      <td>150.000000</td>\n",
              "      <td>150.000000</td>\n",
              "    </tr>\n",
              "    <tr>\n",
              "      <th>mean</th>\n",
              "      <td>75.500000</td>\n",
              "      <td>5.843333</td>\n",
              "      <td>3.054000</td>\n",
              "      <td>3.758667</td>\n",
              "      <td>1.198667</td>\n",
              "    </tr>\n",
              "    <tr>\n",
              "      <th>std</th>\n",
              "      <td>43.445368</td>\n",
              "      <td>0.828066</td>\n",
              "      <td>0.433594</td>\n",
              "      <td>1.764420</td>\n",
              "      <td>0.763161</td>\n",
              "    </tr>\n",
              "    <tr>\n",
              "      <th>min</th>\n",
              "      <td>1.000000</td>\n",
              "      <td>4.300000</td>\n",
              "      <td>2.000000</td>\n",
              "      <td>1.000000</td>\n",
              "      <td>0.100000</td>\n",
              "    </tr>\n",
              "    <tr>\n",
              "      <th>25%</th>\n",
              "      <td>38.250000</td>\n",
              "      <td>5.100000</td>\n",
              "      <td>2.800000</td>\n",
              "      <td>1.600000</td>\n",
              "      <td>0.300000</td>\n",
              "    </tr>\n",
              "    <tr>\n",
              "      <th>50%</th>\n",
              "      <td>75.500000</td>\n",
              "      <td>5.800000</td>\n",
              "      <td>3.000000</td>\n",
              "      <td>4.350000</td>\n",
              "      <td>1.300000</td>\n",
              "    </tr>\n",
              "    <tr>\n",
              "      <th>75%</th>\n",
              "      <td>112.750000</td>\n",
              "      <td>6.400000</td>\n",
              "      <td>3.300000</td>\n",
              "      <td>5.100000</td>\n",
              "      <td>1.800000</td>\n",
              "    </tr>\n",
              "    <tr>\n",
              "      <th>max</th>\n",
              "      <td>150.000000</td>\n",
              "      <td>7.900000</td>\n",
              "      <td>4.400000</td>\n",
              "      <td>6.900000</td>\n",
              "      <td>2.500000</td>\n",
              "    </tr>\n",
              "  </tbody>\n",
              "</table>\n",
              "</div>"
            ],
            "text/plain": [
              "               Id  SepalLengthCm  SepalWidthCm  PetalLengthCm  PetalWidthCm\n",
              "count  150.000000     150.000000    150.000000     150.000000    150.000000\n",
              "mean    75.500000       5.843333      3.054000       3.758667      1.198667\n",
              "std     43.445368       0.828066      0.433594       1.764420      0.763161\n",
              "min      1.000000       4.300000      2.000000       1.000000      0.100000\n",
              "25%     38.250000       5.100000      2.800000       1.600000      0.300000\n",
              "50%     75.500000       5.800000      3.000000       4.350000      1.300000\n",
              "75%    112.750000       6.400000      3.300000       5.100000      1.800000\n",
              "max    150.000000       7.900000      4.400000       6.900000      2.500000"
            ]
          },
          "metadata": {
            "tags": []
          },
          "execution_count": 8
        }
      ]
    },
    {
      "cell_type": "code",
      "metadata": {
        "id": "d0x2c3mgeFd4",
        "colab": {
          "base_uri": "https://localhost:8080/"
        },
        "outputId": "600f84a2-d20e-4093-cedc-26343f450a03"
      },
      "source": [
        "data.columns"
      ],
      "execution_count": 9,
      "outputs": [
        {
          "output_type": "execute_result",
          "data": {
            "text/plain": [
              "Index(['Id', 'SepalLengthCm', 'SepalWidthCm', 'PetalLengthCm', 'PetalWidthCm',\n",
              "       'Species'],\n",
              "      dtype='object')"
            ]
          },
          "metadata": {
            "tags": []
          },
          "execution_count": 9
        }
      ]
    },
    {
      "cell_type": "code",
      "metadata": {
        "id": "pGUU53EveH0n",
        "colab": {
          "base_uri": "https://localhost:8080/"
        },
        "outputId": "7c5c3019-0871-4486-efa5-d44baffb1edc"
      },
      "source": [
        "data.Species.value_counts()"
      ],
      "execution_count": 10,
      "outputs": [
        {
          "output_type": "execute_result",
          "data": {
            "text/plain": [
              "Iris-setosa        50\n",
              "Iris-virginica     50\n",
              "Iris-versicolor    50\n",
              "Name: Species, dtype: int64"
            ]
          },
          "metadata": {
            "tags": []
          },
          "execution_count": 10
        }
      ]
    },
    {
      "cell_type": "markdown",
      "metadata": {
        "id": "OTEnJUUPWvee"
      },
      "source": [
        "## Distribution 3 types plots"
      ]
    },
    {
      "cell_type": "code",
      "metadata": {
        "id": "HUxN2fB3Vr-v"
      },
      "source": [
        "count_Class = pd.value_counts(data[\"Species\"], sort = True)"
      ],
      "execution_count": 11,
      "outputs": []
    },
    {
      "cell_type": "code",
      "metadata": {
        "id": "Brefx22qXKrt",
        "colab": {
          "base_uri": "https://localhost:8080/"
        },
        "outputId": "47449f47-6f9f-4d06-d162-20632fdae628"
      },
      "source": [
        "count_Class"
      ],
      "execution_count": 12,
      "outputs": [
        {
          "output_type": "execute_result",
          "data": {
            "text/plain": [
              "Iris-setosa        50\n",
              "Iris-virginica     50\n",
              "Iris-versicolor    50\n",
              "Name: Species, dtype: int64"
            ]
          },
          "metadata": {
            "tags": []
          },
          "execution_count": 12
        }
      ]
    },
    {
      "cell_type": "code",
      "metadata": {
        "id": "t0XjxAITXWuJ",
        "colab": {
          "base_uri": "https://localhost:8080/"
        },
        "outputId": "e0853e25-ea97-4ed7-d208-fb4c87a6201d"
      },
      "source": [
        "type(count_Class)"
      ],
      "execution_count": 13,
      "outputs": [
        {
          "output_type": "execute_result",
          "data": {
            "text/plain": [
              "pandas.core.series.Series"
            ]
          },
          "metadata": {
            "tags": []
          },
          "execution_count": 13
        }
      ]
    },
    {
      "cell_type": "code",
      "metadata": {
        "id": "8MFHpOxWXdxq",
        "colab": {
          "base_uri": "https://localhost:8080/",
          "height": 407
        },
        "outputId": "4def229a-8620-411e-e971-8ffd716778a0"
      },
      "source": [
        "count_Class = pd.value_counts(data[\"Species\"], sort = True)\n",
        "print(count_Class)\n",
        "count_Class.plot(kind = 'bar', color = [\"red\", \"green\", \"blue\"])\n",
        "plt.title('Bar chart')\n",
        "plt.show()"
      ],
      "execution_count": 14,
      "outputs": [
        {
          "output_type": "stream",
          "text": [
            "Iris-setosa        50\n",
            "Iris-virginica     50\n",
            "Iris-versicolor    50\n",
            "Name: Species, dtype: int64\n"
          ],
          "name": "stdout"
        },
        {
          "output_type": "display_data",
          "data": {
            "image/png": "[encoded data removed]",
            "text/plain": [
              "<Figure size 432x288 with 1 Axes>"
            ]
          },
          "metadata": {
            "tags": [],
            "needs_background": "light"
          }
        }
      ]
    },
    {
      "cell_type": "code",
      "metadata": {
        "id": "QZODcvuIX22Q",
        "colab": {
          "base_uri": "https://localhost:8080/",
          "height": 264
        },
        "outputId": "518b0e6f-3d71-4f83-d710-fcb42c147e5a"
      },
      "source": [
        "count_Class.plot(kind = 'pie',  autopct='%1.0f%%')\n",
        "plt.title('Pie chart')\n",
        "plt.ylabel('')\n",
        "plt.show()"
      ],
      "execution_count": 15,
      "outputs": [
        {
          "output_type": "display_data",
          "data": {
            "image/png": "[encoded data removed]",
            "text/plain": [
              "<Figure size 432x288 with 1 Axes>"
            ]
          },
          "metadata": {
            "tags": []
          }
        }
      ]
    },
    {
      "cell_type": "markdown",
      "metadata": {
        "id": "bLd09ltzYF4O"
      },
      "source": [
        "## Split dataset into training set & test set"
      ]
    },
    {
      "cell_type": "code",
      "metadata": {
        "id": "QbPQSOKrZWGq"
      },
      "source": [
        "feature_columns = ['SepalLengthCm', 'SepalWidthCm', 'PetalLengthCm','PetalWidthCm']\n",
        "X = data[feature_columns].values\n",
        "y = data['Species'].values"
      ],
      "execution_count": 16,
      "outputs": []
    },
    {
      "cell_type": "code",
      "metadata": {
        "id": "J4oZwpgjZz39"
      },
      "source": [
        "from sklearn.model_selection import train_test_split\n",
        "X_train, X_test, y_train, y_test = train_test_split(X, y, test_size = 0.2, random_state = 0)"
      ],
      "execution_count": 17,
      "outputs": []
    },
    {
      "cell_type": "markdown",
      "metadata": {
        "id": "KKDtgl0hZ8FK"
      },
      "source": [
        "## Build GaussianNB Classifier"
      ]
    },
    {
      "cell_type": "code",
      "metadata": {
        "id": "Pn4rTxwdaBxa",
        "colab": {
          "base_uri": "https://localhost:8080/"
        },
        "outputId": "5fdd0783-ed0c-42ba-a9c1-ca871e9a8a0b"
      },
      "source": [
        "from sklearn.naive_bayes import GaussianNB\n",
        "clf = GaussianNB()\n",
        "# fit it to training data\n",
        "clf.fit(X_train,y_train)\n",
        "clf"
      ],
      "execution_count": 18,
      "outputs": [
        {
          "output_type": "execute_result",
          "data": {
            "text/plain": [
              "GaussianNB(priors=None, var_smoothing=1e-09)"
            ]
          },
          "metadata": {
            "tags": []
          },
          "execution_count": 18
        }
      ]
    },
    {
      "cell_type": "code",
      "metadata": {
        "id": "QaepUHxHasoE",
        "colab": {
          "base_uri": "https://localhost:8080/"
        },
        "outputId": "b018e4b4-a530-45a3-d3b6-658e040f9d3a"
      },
      "source": [
        "# predict using test data\n",
        "y_test_pred = clf.predict(X_test)\n",
        "y_test_pred"
      ],
      "execution_count": 19,
      "outputs": [
        {
          "output_type": "execute_result",
          "data": {
            "text/plain": [
              "array(['Iris-virginica', 'Iris-versicolor', 'Iris-setosa',\n",
              "       'Iris-virginica', 'Iris-setosa', 'Iris-virginica', 'Iris-setosa',\n",
              "       'Iris-versicolor', 'Iris-versicolor', 'Iris-versicolor',\n",
              "       'Iris-versicolor', 'Iris-versicolor', 'Iris-versicolor',\n",
              "       'Iris-versicolor', 'Iris-versicolor', 'Iris-setosa',\n",
              "       'Iris-versicolor', 'Iris-versicolor', 'Iris-setosa', 'Iris-setosa',\n",
              "       'Iris-virginica', 'Iris-versicolor', 'Iris-setosa', 'Iris-setosa',\n",
              "       'Iris-virginica', 'Iris-setosa', 'Iris-setosa', 'Iris-versicolor',\n",
              "       'Iris-versicolor', 'Iris-setosa'], dtype='<U15')"
            ]
          },
          "metadata": {
            "tags": []
          },
          "execution_count": 19
        }
      ]
    },
    {
      "cell_type": "code",
      "metadata": {
        "id": "tPQ31eswavoL",
        "colab": {
          "base_uri": "https://localhost:8080/"
        },
        "outputId": "720bc645-0033-4394-b85e-ee5951195c73"
      },
      "source": [
        "# Compute predicted probabilities: y_pred_prob\n",
        "y_test_pred_prob = clf.predict_proba(X_test)\n",
        "y_test_pred_prob"
      ],
      "execution_count": 20,
      "outputs": [
        {
          "output_type": "execute_result",
          "data": {
            "text/plain": [
              "array([[4.01149696e-229, 2.18878438e-006, 9.99997811e-001],\n",
              "       [4.22169416e-082, 9.99998304e-001, 1.69618390e-006],\n",
              "       [1.00000000e+000, 7.16284995e-019, 3.68554763e-028],\n",
              "       [8.35284952e-304, 1.04649020e-006, 9.99998954e-001],\n",
              "       [1.00000000e+000, 8.66468390e-017, 4.25746157e-027],\n",
              "       [3.37568623e-317, 1.56450314e-010, 1.00000000e+000],\n",
              "       [1.00000000e+000, 1.12844157e-016, 5.44991578e-027],\n",
              "       [1.56262696e-145, 7.74052109e-001, 2.25947891e-001],\n",
              "       [4.43483233e-149, 9.07564955e-001, 9.24350453e-002],\n",
              "       [3.24212000e-092, 9.99882109e-001, 1.17891111e-004],\n",
              "       [1.98065482e-209, 5.29609631e-001, 4.70390369e-001],\n",
              "       [1.01414563e-130, 9.43762575e-001, 5.62374248e-002],\n",
              "       [2.14203039e-131, 9.98864361e-001, 1.13563851e-003],\n",
              "       [1.55482433e-138, 9.49838641e-001, 5.01613586e-002],\n",
              "       [3.38807588e-139, 9.88043864e-001, 1.19561365e-002],\n",
              "       [1.00000000e+000, 4.35323671e-017, 9.62602787e-028],\n",
              "       [5.23970312e-130, 9.87944980e-001, 1.20550201e-002],\n",
              "       [1.68566506e-110, 9.99942383e-001, 5.76167389e-005],\n",
              "       [1.00000000e+000, 2.31174941e-015, 3.73714994e-026],\n",
              "       [1.00000000e+000, 9.97318181e-016, 2.44950699e-025],\n",
              "       [3.05735794e-184, 1.66966805e-002, 9.83303319e-001],\n",
              "       [1.10283138e-128, 9.92757232e-001, 7.24276827e-003],\n",
              "       [1.00000000e+000, 4.30002990e-013, 4.37911617e-023],\n",
              "       [1.00000000e+000, 1.29133764e-016, 1.27784565e-027],\n",
              "       [1.28442329e-166, 1.83516225e-001, 8.16483775e-001],\n",
              "       [1.00000000e+000, 2.64661159e-018, 6.78287536e-029],\n",
              "       [1.00000000e+000, 3.24039059e-011, 1.54065975e-020],\n",
              "       [1.26289584e-109, 9.99291229e-001, 7.08771072e-004],\n",
              "       [3.21982861e-046, 9.99999972e-001, 2.81392389e-008],\n",
              "       [1.00000000e+000, 1.87935417e-013, 1.60534483e-023]])"
            ]
          },
          "metadata": {
            "tags": []
          },
          "execution_count": 20
        }
      ]
    },
    {
      "cell_type": "code",
      "metadata": {
        "id": "tRlhS0lTayPg",
        "colab": {
          "base_uri": "https://localhost:8080/"
        },
        "outputId": "0d5410ab-8e9a-49e1-d637-99456346d3bd"
      },
      "source": [
        "# predict using train data\n",
        "y_train_pred = clf.predict(X_train)\n",
        "y_train_pred"
      ],
      "execution_count": 21,
      "outputs": [
        {
          "output_type": "execute_result",
          "data": {
            "text/plain": [
              "array(['Iris-virginica', 'Iris-versicolor', 'Iris-setosa',\n",
              "       'Iris-virginica', 'Iris-virginica', 'Iris-versicolor',\n",
              "       'Iris-setosa', 'Iris-versicolor', 'Iris-versicolor',\n",
              "       'Iris-versicolor', 'Iris-virginica', 'Iris-setosa',\n",
              "       'Iris-virginica', 'Iris-setosa', 'Iris-setosa', 'Iris-versicolor',\n",
              "       'Iris-virginica', 'Iris-virginica', 'Iris-versicolor',\n",
              "       'Iris-virginica', 'Iris-versicolor', 'Iris-virginica',\n",
              "       'Iris-versicolor', 'Iris-versicolor', 'Iris-virginica',\n",
              "       'Iris-versicolor', 'Iris-versicolor', 'Iris-virginica',\n",
              "       'Iris-versicolor', 'Iris-virginica', 'Iris-versicolor',\n",
              "       'Iris-setosa', 'Iris-virginica', 'Iris-versicolor',\n",
              "       'Iris-versicolor', 'Iris-versicolor', 'Iris-versicolor',\n",
              "       'Iris-virginica', 'Iris-setosa', 'Iris-setosa', 'Iris-virginica',\n",
              "       'Iris-versicolor', 'Iris-setosa', 'Iris-setosa', 'Iris-virginica',\n",
              "       'Iris-setosa', 'Iris-virginica', 'Iris-versicolor', 'Iris-setosa',\n",
              "       'Iris-versicolor', 'Iris-virginica', 'Iris-versicolor',\n",
              "       'Iris-setosa', 'Iris-virginica', 'Iris-virginica',\n",
              "       'Iris-virginica', 'Iris-virginica', 'Iris-setosa', 'Iris-setosa',\n",
              "       'Iris-virginica', 'Iris-virginica', 'Iris-setosa',\n",
              "       'Iris-virginica', 'Iris-setosa', 'Iris-virginica',\n",
              "       'Iris-virginica', 'Iris-setosa', 'Iris-setosa', 'Iris-virginica',\n",
              "       'Iris-setosa', 'Iris-setosa', 'Iris-setosa', 'Iris-versicolor',\n",
              "       'Iris-virginica', 'Iris-virginica', 'Iris-setosa', 'Iris-setosa',\n",
              "       'Iris-setosa', 'Iris-versicolor', 'Iris-versicolor', 'Iris-setosa',\n",
              "       'Iris-setosa', 'Iris-versicolor', 'Iris-setosa', 'Iris-virginica',\n",
              "       'Iris-versicolor', 'Iris-virginica', 'Iris-versicolor',\n",
              "       'Iris-setosa', 'Iris-virginica', 'Iris-setosa', 'Iris-virginica',\n",
              "       'Iris-setosa', 'Iris-setosa', 'Iris-virginica', 'Iris-setosa',\n",
              "       'Iris-virginica', 'Iris-versicolor', 'Iris-versicolor',\n",
              "       'Iris-versicolor', 'Iris-virginica', 'Iris-virginica',\n",
              "       'Iris-versicolor', 'Iris-virginica', 'Iris-setosa',\n",
              "       'Iris-versicolor', 'Iris-virginica', 'Iris-virginica',\n",
              "       'Iris-setosa', 'Iris-versicolor', 'Iris-versicolor',\n",
              "       'Iris-virginica', 'Iris-versicolor', 'Iris-setosa', 'Iris-setosa',\n",
              "       'Iris-setosa', 'Iris-virginica', 'Iris-versicolor',\n",
              "       'Iris-virginica', 'Iris-setosa'], dtype='<U15')"
            ]
          },
          "metadata": {
            "tags": []
          },
          "execution_count": 21
        }
      ]
    },
    {
      "cell_type": "markdown",
      "metadata": {
        "id": "W6x9hTTPa1d5"
      },
      "source": [
        "## Evaluation"
      ]
    },
    {
      "cell_type": "markdown",
      "metadata": {
        "id": "VLNs-IvYbN4o"
      },
      "source": [
        "### Tập test"
      ]
    },
    {
      "cell_type": "code",
      "metadata": {
        "id": "cIScta-mbQlj",
        "colab": {
          "base_uri": "https://localhost:8080/"
        },
        "outputId": "1258154a-479a-4b03-d639-682b843b1fa7"
      },
      "source": [
        "print('Test-set confusion matrix:\\n', confusion_matrix(y_test,y_test_pred)) \n",
        "print(\"Recall score: \", recall_score(y_test,y_test_pred, average = None))"
      ],
      "execution_count": 22,
      "outputs": [
        {
          "output_type": "stream",
          "text": [
            "Test-set confusion matrix:\n",
            " [[11  0  0]\n",
            " [ 0 13  0]\n",
            " [ 0  1  5]]\n",
            "Recall score:  [1.         1.         0.83333333]\n"
          ],
          "name": "stdout"
        }
      ]
    },
    {
      "cell_type": "code",
      "metadata": {
        "id": "x3hrvkgmbd05",
        "colab": {
          "base_uri": "https://localhost:8080/"
        },
        "outputId": "dda16ebc-4ce8-450a-da75-497b06359b38"
      },
      "source": [
        "print(\"Precision score: \", precision_score(y_test,y_test_pred, average = None))\n",
        "print(\"f1 score: \", f1_score(y_test,y_test_pred, average = None))"
      ],
      "execution_count": 23,
      "outputs": [
        {
          "output_type": "stream",
          "text": [
            "Precision score:  [1.         0.92857143 1.        ]\n",
            "f1 score:  [1.         0.96296296 0.90909091]\n"
          ],
          "name": "stdout"
        }
      ]
    },
    {
      "cell_type": "code",
      "metadata": {
        "id": "s2sNMh4CcFX6",
        "colab": {
          "base_uri": "https://localhost:8080/"
        },
        "outputId": "dd2fae9e-03ed-4811-d153-371697188f6e"
      },
      "source": [
        "print(\"Accuracy score: \", accuracy_score(y_test,y_test_pred))"
      ],
      "execution_count": 24,
      "outputs": [
        {
          "output_type": "stream",
          "text": [
            "Accuracy score:  0.9666666666666667\n"
          ],
          "name": "stdout"
        }
      ]
    },
    {
      "cell_type": "markdown",
      "metadata": {
        "id": "6IF92E8dbL-x"
      },
      "source": [
        "### Tập train"
      ]
    },
    {
      "cell_type": "code",
      "metadata": {
        "id": "EG93u80Ya0np",
        "colab": {
          "base_uri": "https://localhost:8080/"
        },
        "outputId": "df0c67b4-7d16-4f82-e761-b0a575346b43"
      },
      "source": [
        "print('Train-set confusion matrix:\\n', confusion_matrix(y_train,y_train_pred)) \n",
        "print(\"Recall score: \", recall_score(y_train,y_train_pred, average = None))"
      ],
      "execution_count": 25,
      "outputs": [
        {
          "output_type": "stream",
          "text": [
            "Train-set confusion matrix:\n",
            " [[39  0  0]\n",
            " [ 0 34  3]\n",
            " [ 0  3 41]]\n",
            "Recall score:  [1.         0.91891892 0.93181818]\n"
          ],
          "name": "stdout"
        }
      ]
    },
    {
      "cell_type": "code",
      "metadata": {
        "id": "GBfUltnkpuiz",
        "colab": {
          "base_uri": "https://localhost:8080/"
        },
        "outputId": "cd811f60-7d6f-41c3-9001-304b9566495a"
      },
      "source": [
        "print(\"Precision score: \", precision_score(y_train,y_train_pred, average = None))\n",
        "print(\"f1 score: \", f1_score(y_train,y_train_pred, average = None))"
      ],
      "execution_count": 26,
      "outputs": [
        {
          "output_type": "stream",
          "text": [
            "Precision score:  [1.         0.91891892 0.93181818]\n",
            "f1 score:  [1.         0.91891892 0.93181818]\n"
          ],
          "name": "stdout"
        }
      ]
    },
    {
      "cell_type": "code",
      "metadata": {
        "id": "QmErQd1Jsjlz",
        "colab": {
          "base_uri": "https://localhost:8080/"
        },
        "outputId": "a8865a69-8aaa-48d9-d8dd-d5b50ed2cb7c"
      },
      "source": [
        "print(\"Accuracy score: \", accuracy_score(y_train,y_train_pred))"
      ],
      "execution_count": 27,
      "outputs": [
        {
          "output_type": "stream",
          "text": [
            "Accuracy score:  0.95\n"
          ],
          "name": "stdout"
        }
      ]
    }
  ]
}