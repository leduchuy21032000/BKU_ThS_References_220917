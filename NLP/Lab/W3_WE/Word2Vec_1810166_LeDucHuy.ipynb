{
  "nbformat": 4,
  "nbformat_minor": 0,
  "metadata": {
    "colab": {
      "name": "Word2Vec_1810166_LeDucHuy.ipynb",
      "provenance": [],
      "collapsed_sections": []
    },
    "kernelspec": {
      "name": "python3",
      "display_name": "Python 3"
    },
    "language_info": {
      "name": "python"
    }
  },
  "cells": [
    {
      "cell_type": "markdown",
      "metadata": {
        "id": "AR-bma9SsRJz"
      },
      "source": [
        "# Word2Vec Lab"
      ]
    },
    {
      "cell_type": "markdown",
      "metadata": {
        "id": "v6O0npo1swyx"
      },
      "source": [
        "Connect Colab with Google Drive to take data"
      ]
    },
    {
      "cell_type": "code",
      "metadata": {
        "colab": {
          "base_uri": "https://localhost:8080/"
        },
        "id": "VMDgBg9zsowX",
        "outputId": "31ed3194-9beb-4bf8-c6e1-15e05fcbe0a0"
      },
      "source": [
        "from google.colab import drive\n",
        "drive.mount('/content/drive')"
      ],
      "execution_count": 36,
      "outputs": [
        {
          "output_type": "stream",
          "name": "stdout",
          "text": [
            "Drive already mounted at /content/drive; to attempt to forcibly remount, call drive.mount(\"/content/drive\", force_remount=True).\n"
          ]
        }
      ]
    },
    {
      "cell_type": "markdown",
      "metadata": {
        "id": "LQV8w0Gps6SO"
      },
      "source": [
        "Install Gensim library to train model Word2Vec"
      ]
    },
    {
      "cell_type": "code",
      "metadata": {
        "colab": {
          "base_uri": "https://localhost:8080/"
        },
        "id": "9VV08MRGtKde",
        "outputId": "39b73ee1-b324-4348-8087-c24f4699b41c"
      },
      "source": [
        "!pip install gensim"
      ],
      "execution_count": 37,
      "outputs": [
        {
          "output_type": "stream",
          "name": "stdout",
          "text": [
            "Requirement already satisfied: gensim in /usr/local/lib/python3.7/dist-packages (3.6.0)\n",
            "Requirement already satisfied: six>=1.5.0 in /usr/local/lib/python3.7/dist-packages (from gensim) (1.15.0)\n",
            "Requirement already satisfied: numpy>=1.11.3 in /usr/local/lib/python3.7/dist-packages (from gensim) (1.19.5)\n",
            "Requirement already satisfied: scipy>=0.18.1 in /usr/local/lib/python3.7/dist-packages (from gensim) (1.4.1)\n",
            "Requirement already satisfied: smart-open>=1.2.1 in /usr/local/lib/python3.7/dist-packages (from gensim) (5.2.1)\n"
          ]
        }
      ]
    },
    {
      "cell_type": "markdown",
      "metadata": {
        "id": "tFWj8P5k5xOd"
      },
      "source": [
        "Install underthesea library to word separation"
      ]
    },
    {
      "cell_type": "code",
      "metadata": {
        "colab": {
          "base_uri": "https://localhost:8080/"
        },
        "id": "08HQlpMu5K6s",
        "outputId": "164eada8-d52f-4b81-c3e6-a7ff28d2be84"
      },
      "source": [
        "!pip install underthesea"
      ],
      "execution_count": 38,
      "outputs": [
        {
          "output_type": "stream",
          "name": "stdout",
          "text": [
            "Requirement already satisfied: underthesea in /usr/local/lib/python3.7/dist-packages (1.3.3)\n",
            "Requirement already satisfied: requests in /usr/local/lib/python3.7/dist-packages (from underthesea) (2.23.0)\n",
            "Requirement already satisfied: joblib in /usr/local/lib/python3.7/dist-packages (from underthesea) (1.0.1)\n",
            "Requirement already satisfied: PyYAML in /usr/local/lib/python3.7/dist-packages (from underthesea) (5.4.1)\n",
            "Requirement already satisfied: unidecode in /usr/local/lib/python3.7/dist-packages (from underthesea) (1.3.2)\n",
            "Requirement already satisfied: tqdm in /usr/local/lib/python3.7/dist-packages (from underthesea) (4.62.2)\n",
            "Requirement already satisfied: scikit-learn in /usr/local/lib/python3.7/dist-packages (from underthesea) (0.22.2.post1)\n",
            "Requirement already satisfied: python-crfsuite>=0.9.6 in /usr/local/lib/python3.7/dist-packages (from underthesea) (0.9.7)\n",
            "Requirement already satisfied: torch>=1.1.0 in /usr/local/lib/python3.7/dist-packages (from underthesea) (1.9.0+cu102)\n",
            "Requirement already satisfied: transformers>=3.5.0 in /usr/local/lib/python3.7/dist-packages (from underthesea) (4.10.3)\n",
            "Requirement already satisfied: nltk in /usr/local/lib/python3.7/dist-packages (from underthesea) (3.2.5)\n",
            "Requirement already satisfied: Click>=6.0 in /usr/local/lib/python3.7/dist-packages (from underthesea) (7.1.2)\n",
            "Requirement already satisfied: seqeval in /usr/local/lib/python3.7/dist-packages (from underthesea) (1.2.2)\n",
            "Requirement already satisfied: typing-extensions in /usr/local/lib/python3.7/dist-packages (from torch>=1.1.0->underthesea) (3.7.4.3)\n",
            "Requirement already satisfied: regex!=2019.12.17 in /usr/local/lib/python3.7/dist-packages (from transformers>=3.5.0->underthesea) (2019.12.20)\n",
            "Requirement already satisfied: filelock in /usr/local/lib/python3.7/dist-packages (from transformers>=3.5.0->underthesea) (3.0.12)\n",
            "Requirement already satisfied: tokenizers<0.11,>=0.10.1 in /usr/local/lib/python3.7/dist-packages (from transformers>=3.5.0->underthesea) (0.10.3)\n",
            "Requirement already satisfied: packaging in /usr/local/lib/python3.7/dist-packages (from transformers>=3.5.0->underthesea) (21.0)\n",
            "Requirement already satisfied: huggingface-hub>=0.0.12 in /usr/local/lib/python3.7/dist-packages (from transformers>=3.5.0->underthesea) (0.0.17)\n",
            "Requirement already satisfied: sacremoses in /usr/local/lib/python3.7/dist-packages (from transformers>=3.5.0->underthesea) (0.0.46)\n",
            "Requirement already satisfied: numpy>=1.17 in /usr/local/lib/python3.7/dist-packages (from transformers>=3.5.0->underthesea) (1.19.5)\n",
            "Requirement already satisfied: importlib-metadata in /usr/local/lib/python3.7/dist-packages (from transformers>=3.5.0->underthesea) (4.8.1)\n",
            "Requirement already satisfied: pyparsing>=2.0.2 in /usr/local/lib/python3.7/dist-packages (from packaging->transformers>=3.5.0->underthesea) (2.4.7)\n",
            "Requirement already satisfied: zipp>=0.5 in /usr/local/lib/python3.7/dist-packages (from importlib-metadata->transformers>=3.5.0->underthesea) (3.5.0)\n",
            "Requirement already satisfied: six in /usr/local/lib/python3.7/dist-packages (from nltk->underthesea) (1.15.0)\n",
            "Requirement already satisfied: chardet<4,>=3.0.2 in /usr/local/lib/python3.7/dist-packages (from requests->underthesea) (3.0.4)\n",
            "Requirement already satisfied: idna<3,>=2.5 in /usr/local/lib/python3.7/dist-packages (from requests->underthesea) (2.10)\n",
            "Requirement already satisfied: urllib3!=1.25.0,!=1.25.1,<1.26,>=1.21.1 in /usr/local/lib/python3.7/dist-packages (from requests->underthesea) (1.24.3)\n",
            "Requirement already satisfied: certifi>=2017.4.17 in /usr/local/lib/python3.7/dist-packages (from requests->underthesea) (2021.5.30)\n",
            "Requirement already satisfied: scipy>=0.17.0 in /usr/local/lib/python3.7/dist-packages (from scikit-learn->underthesea) (1.4.1)\n"
          ]
        }
      ]
    },
    {
      "cell_type": "markdown",
      "metadata": {
        "id": "ojSaIFootPhh"
      },
      "source": [
        "Import necessary libraries"
      ]
    },
    {
      "cell_type": "code",
      "metadata": {
        "id": "lwiswi5htSY4"
      },
      "source": [
        "import os\n",
        "import pandas as pd\n",
        "import string\n",
        "from gensim.models import Word2Vec\n",
        "from underthesea import word_tokenize"
      ],
      "execution_count": 39,
      "outputs": []
    },
    {
      "cell_type": "markdown",
      "metadata": {
        "id": "QtIJMJyxt8VL"
      },
      "source": [
        "Load dataset from Google Drive folder"
      ]
    },
    {
      "cell_type": "code",
      "metadata": {
        "colab": {
          "base_uri": "https://localhost:8080/"
        },
        "id": "rkBwhQyDt_My",
        "outputId": "1a06169b-3563-4df4-c473-e58f5ba06721"
      },
      "source": [
        "import pandas as pd\n",
        "dataset = pd.read_csv('/content/drive/My Drive/Colab_Notebooks/Word2Vec/datatrain.txt', header= 0, encoding= 'unicode_escape', error_bad_lines=False)"
      ],
      "execution_count": 40,
      "outputs": [
        {
          "output_type": "stream",
          "name": "stderr",
          "text": [
            "b'Skipping line 15: expected 7 fields, saw 9\\n'\n"
          ]
        }
      ]
    },
    {
      "cell_type": "code",
      "metadata": {
        "id": "ncMVd9uX29vh"
      },
      "source": [
        "def text_cleaner(text):\n",
        "    # lower case text\n",
        "    text = text.lower()\n",
        "    # text = re.sub(r\"'s\\b\",\"\",text) # no idea\n",
        "    # remove punctuations\n",
        "    # punctuations = '''!()-[]{};:'\"\\,<>./?@#$%^&*_~'''\n",
        "    # text = re.sub(\"[^a-zA-ZÀÁÂÃÈÉÊÌÍÒÓÔÕÙÚÝàáâãèéêìíòóôõùúýĂăĐđĨĩŨũƠơƯưẠạẢảẤấẦầẨẩẪẫẬậẮắẰằẲẳẴẵẶặẸẹẺẻẼẽẾếỀềỂểỄễỆệỈỉỊịỌọỎỏỐốỒồỔổỖỗỘộỚớỜờỞởỠỡỢợỤụỦủỨứỪừỬửỮữỰựỲỳỴỵỶỷỸỹ]\", \" \", text) # thay những kí tự không phải chữ cái thành khoảng trắng\n",
        "    return text"
      ],
      "execution_count": 41,
      "outputs": []
    },
    {
      "cell_type": "code",
      "metadata": {
        "id": "z0svNxMp4f4e"
      },
      "source": [
        "def read_data(pathdata):\n",
        "    traindata = []\n",
        "    sents = open(pathdata, encoding='utf-8').readlines()\n",
        "    for sent in sents:\n",
        "        x = word_tokenize(text_cleaner(sent))\n",
        "        # x = [_ for _ in x if not _ in vietnamese_stopwords]\n",
        "        traindata.append(x)\n",
        "    return traindata"
      ],
      "execution_count": 42,
      "outputs": []
    },
    {
      "cell_type": "code",
      "metadata": {
        "id": "zk_wbpTK43XA"
      },
      "source": [
        "train_data = read_data('/content/drive/My Drive/Colab_Notebooks/Word2Vec/datatrain.txt')"
      ],
      "execution_count": 43,
      "outputs": []
    },
    {
      "cell_type": "code",
      "metadata": {
        "id": "zOUAglDfw347"
      },
      "source": [
        "# Skipgram model\n",
        "\n",
        "model = Word2Vec(train_data, min_count = 1, size =300, window = 5, sg = 1)\n",
        "model.wv.save('/content/drive/My Drive/Colab_Notebooks/Word2Vec/word2vec_skipgram.bin')\n",
        "\n",
        "# CBOW model\n",
        "\n",
        "model = Word2Vec(train_data, min_count = 1, size =300, window = 5, sg = 0)\n",
        "model.wv.save('/content/drive/My Drive/Colab_Notebooks/Word2Vec/word2vec_CBOW.bin')"
      ],
      "execution_count": 44,
      "outputs": []
    },
    {
      "cell_type": "code",
      "metadata": {
        "colab": {
          "base_uri": "https://localhost:8080/"
        },
        "id": "jDlvGap049DZ",
        "outputId": "19a35656-4cec-4ec1-c13c-a65ce6857b0f"
      },
      "source": [
        "train_data[0]"
      ],
      "execution_count": 45,
      "outputs": [
        {
          "output_type": "execute_result",
          "data": {
            "text/plain": [
              "['president',\n",
              " 'biden',\n",
              " 'represented',\n",
              " 'delaware',\n",
              " 'for',\n",
              " '36',\n",
              " 'years',\n",
              " 'in',\n",
              " 'the',\n",
              " 'us',\n",
              " 'senate',\n",
              " 'before',\n",
              " 'becoming',\n",
              " 'the',\n",
              " '47',\n",
              " 'th',\n",
              " 'vice',\n",
              " 'president',\n",
              " 'of',\n",
              " 'the',\n",
              " 'united',\n",
              " 'states',\n",
              " '.',\n",
              " 'as',\n",
              " 'president',\n",
              " ',',\n",
              " 'biden',\n",
              " 'will',\n",
              " 'restore',\n",
              " 'america’s',\n",
              " 'leadership',\n",
              " 'and',\n",
              " 'build',\n",
              " 'our',\n",
              " 'communities',\n",
              " 'back',\n",
              " 'better',\n",
              " '.']"
            ]
          },
          "metadata": {},
          "execution_count": 45
        }
      ]
    },
    {
      "cell_type": "code",
      "metadata": {
        "id": "vgk3PkTxxNRs"
      },
      "source": [
        "import gensim\n",
        "from gensim.test.utils import common_texts, get_tmpfile\n",
        "from gensim.models import Word2Vec\n",
        "path = '/content/drive/My Drive/Colab_Notebooks/Word2Vec/word2vec_CBOW.bin'\n",
        "model = gensim.models.KeyedVectors.load(path)"
      ],
      "execution_count": 46,
      "outputs": []
    },
    {
      "cell_type": "markdown",
      "metadata": {
        "id": "8AZl8TKUxRO5"
      },
      "source": [
        "# Test result"
      ]
    },
    {
      "cell_type": "code",
      "metadata": {
        "colab": {
          "base_uri": "https://localhost:8080/"
        },
        "id": "djaDxf6456S5",
        "outputId": "80f9f7b5-6e69-4574-f175-54f09157e26d"
      },
      "source": [
        "model.most_similar(positive=['biden'],topn=10)"
      ],
      "execution_count": 47,
      "outputs": [
        {
          "output_type": "execute_result",
          "data": {
            "text/plain": [
              "[('on', 0.15963885188102722),\n",
              " ('senator', 0.15450195968151093),\n",
              " ('states', 0.15042227506637573),\n",
              " ('government', 0.1502189040184021),\n",
              " ('general', 0.1391303539276123),\n",
              " ('critically', 0.13806936144828796),\n",
              " ('rebuild', 0.13646352291107178),\n",
              " ('joe', 0.1341228485107422),\n",
              " ('youngest', 0.12950082123279572),\n",
              " ('president', 0.12769973278045654)]"
            ]
          },
          "metadata": {},
          "execution_count": 47
        }
      ]
    },
    {
      "cell_type": "code",
      "metadata": {
        "colab": {
          "base_uri": "https://localhost:8080/"
        },
        "id": "5cB-skNI5_S_",
        "outputId": "df5d3598-2054-40bb-babf-29667a24f23c"
      },
      "source": [
        "model.similar_by_vector(model['biden'], topn=15)"
      ],
      "execution_count": 48,
      "outputs": [
        {
          "output_type": "execute_result",
          "data": {
            "text/plain": [
              "[('biden', 0.9999999403953552),\n",
              " ('on', 0.15963885188102722),\n",
              " ('senator', 0.15450195968151093),\n",
              " ('states', 0.15042227506637573),\n",
              " ('government', 0.1502189040184021),\n",
              " ('general', 0.1391303539276123),\n",
              " ('critically', 0.13806936144828796),\n",
              " ('rebuild', 0.13646352291107178),\n",
              " ('joe', 0.1341228485107422),\n",
              " ('youngest', 0.12950082123279572),\n",
              " ('president', 0.12769973278045654),\n",
              " ('all', 0.12226340919733047),\n",
              " ('confront', 0.12119776755571365),\n",
              " ('months', 0.1206011176109314),\n",
              " ('the', 0.11894221603870392)]"
            ]
          },
          "metadata": {},
          "execution_count": 48
        }
      ]
    },
    {
      "cell_type": "markdown",
      "metadata": {
        "id": "qXkBRZwT7mrX"
      },
      "source": [
        "#Evaluate the result"
      ]
    },
    {
      "cell_type": "markdown",
      "metadata": {
        "id": "3UzuIie77ovy"
      },
      "source": [
        "According to above result, we see that Biden has similarity with words like joe, senator, government, president,...\n",
        "\n",
        "This result is logical because in the dataset, pricipal information about Biden is president, senator, United States, and Joe is a word in his name - Joe Biden.\n",
        "\n",
        "Therefore, when we look up words which are related to Biden, the result is words listed above."
      ]
    }
  ]
}