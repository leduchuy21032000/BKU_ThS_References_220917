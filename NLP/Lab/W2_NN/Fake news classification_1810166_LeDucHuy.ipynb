{
  "nbformat": 4,
  "nbformat_minor": 0,
  "metadata": {
    "kernelspec": {
      "display_name": "Python 3",
      "language": "python",
      "name": "python3"
    },
    "language_info": {
      "codemirror_mode": {
        "name": "ipython",
        "version": 3
      },
      "file_extension": ".py",
      "mimetype": "text/x-python",
      "name": "python",
      "nbconvert_exporter": "python",
      "pygments_lexer": "ipython3",
      "version": "3.7.6"
    },
    "colab": {
      "name": "Fake news classification_1810166_LeDucHuy.ipynb",
      "provenance": [],
      "collapsed_sections": []
    }
  },
  "cells": [
    {
      "cell_type": "markdown",
      "metadata": {
        "id": "CtOPqgip4Zk3"
      },
      "source": [
        "# Logistic Regression with a Neural Network mindset"
      ]
    },
    {
      "cell_type": "markdown",
      "metadata": {
        "id": "dwfaF2Mz4g0d"
      },
      "source": [
        "## 1 - Packages"
      ]
    },
    {
      "cell_type": "code",
      "metadata": {
        "id": "gxMlH-Q-2R-o"
      },
      "source": [
        "# Importing necessary libraries and packages\n",
        "import numpy as np\n",
        "import pandas as pd\n",
        "import itertools\n",
        "import seaborn as sn\n",
        "import pandas as pd\n",
        "import matplotlib.pyplot as plt\n",
        "from sklearn.model_selection import train_test_split\n",
        "from sklearn.feature_extraction.text import TfidfVectorizer\n",
        "from sklearn.linear_model import PassiveAggressiveClassifier\n",
        "from sklearn.metrics import accuracy_score, confusion_matrix, classification_report"
      ],
      "execution_count": null,
      "outputs": []
    },
    {
      "cell_type": "markdown",
      "metadata": {
        "id": "ZluaaY-D4oHi"
      },
      "source": [
        "## 2 - Dataset preparation\n",
        "The goal here is to identify whether a \"news\" article is fake or fact. \n",
        "Dataset (\"fake_news_train.csv\") which contains the following features:\n",
        "- id: unique id for a news article\n",
        "- title: the title of a news article\n",
        "- author: author of the news article\n",
        "- text: the text of the article; could be incomplete\n",
        "- label: a label that marks the article as potentially unreliable\n",
        "  - 1: unreliable (fake news)\n",
        "  - 0: reliable (fact news)\n",
        "  \n",
        "Dataset (\"fake_news_test,csv\") is the same as train dataset, but the test dataset does not have \"label\" feature"
      ]
    },
    {
      "cell_type": "code",
      "metadata": {
        "id": "8N9VMqaF2R-s"
      },
      "source": [
        "# Loading data as numpy array from csv database files\n",
        "train = pd.read_csv('fake_news_train.csv')\n",
        "test = pd.read_csv('fake_news_test.csv')\n",
        "test = test.set_index('id', drop = True)"
      ],
      "execution_count": null,
      "outputs": []
    },
    {
      "cell_type": "code",
      "metadata": {
        "id": "vg3xNHA22R-s",
        "colab": {
          "base_uri": "https://localhost:8080/"
        },
        "outputId": "829fbe09-c4a7-4472-d563-c93d32d1ac4e"
      },
      "source": [
        "# Counting number of rows and columns in the data\n",
        "print('Shape of Training Data: ', train.shape)\n",
        "\n",
        "# Getting a hang of the data in each column and their names\n",
        "print('\\n \\n TRAIN \\n', train.head())\n",
        "print('\\n \\n TEST \\n', test.head())\n",
        "\n",
        "# Looking for any places where training data has NaN values\n",
        "print('\\n \\nNumber of Null values in Train Set: ', train['text'].isna().sum())\n",
        "print('Number of Null values in Test Set: ', test['text'].isna().sum())\n",
        "\n",
        "# Dropping all rows where text column is NaN\n",
        "train.dropna(axis=0, how=\"any\", thresh=None, subset=['text'], inplace=True)\n",
        "test = test.fillna(' ')"
      ],
      "execution_count": null,
      "outputs": [
        {
          "output_type": "stream",
          "name": "stdout",
          "text": [
            "Shape of Training Data:  (1001, 5)\n",
            "\n",
            " \n",
            " TRAIN \n",
            "    id  ... label\n",
            "0   0  ...     1\n",
            "1   1  ...     0\n",
            "2   2  ...     1\n",
            "3   3  ...     1\n",
            "4   4  ...     1\n",
            "\n",
            "[5 rows x 5 columns]\n",
            "\n",
            " \n",
            " TEST \n",
            "                                                    title  ...                                               text\n",
            "id                                                        ...                                                   \n",
            "20800  Specter of Trump Loosens Tongues, if Not Purse...  ...  PALO ALTO, Calif.  —   After years of scorning...\n",
            "20801  Russian warships ready to strike terrorists ne...  ...  Russian warships ready to strike terrorists ne...\n",
            "20802  #NoDAPL: Native American Leaders Vow to Stay A...  ...  Videos #NoDAPL: Native American Leaders Vow to...\n",
            "20803  Tim Tebow Will Attempt Another Comeback, This ...  ...  If at first you don’t succeed, try a different...\n",
            "20804                    Keiser Report: Meme Wars (E995)  ...  42 mins ago 1 Views 0 Comments 0 Likes 'For th...\n",
            "\n",
            "[5 rows x 3 columns]\n",
            "\n",
            " \n",
            "Number of Null values in Train Set:  2\n",
            "Number of Null values in Test Set:  0\n"
          ]
        }
      ]
    },
    {
      "cell_type": "code",
      "metadata": {
        "id": "VDyKhVY92R-t",
        "colab": {
          "base_uri": "https://localhost:8080/"
        },
        "outputId": "a99ee406-dcfb-4640-e91f-6047fc49687f"
      },
      "source": [
        "# Checking length of each article\n",
        "length = []\n",
        "[length.append(len(str(text))) for text in train['text']]\n",
        "train['length'] = length\n",
        "\n",
        "print('Minimum Length: ', min(train['length']), '\\nMaximum Length: ', max(train['length']), '\\nAverage Length: ', round(sum(train['length'])/len(train['length'])))"
      ],
      "execution_count": null,
      "outputs": [
        {
          "output_type": "stream",
          "name": "stdout",
          "text": [
            "Minimum Length:  1 \n",
            "Maximum Length:  92561 \n",
            "Average Length:  4811\n"
          ]
        }
      ]
    },
    {
      "cell_type": "code",
      "metadata": {
        "id": "RPfaMTAr2R-u",
        "colab": {
          "base_uri": "https://localhost:8080/"
        },
        "outputId": "64879b4a-58a7-4c35-a827-8f97b0d33c14"
      },
      "source": [
        "# Minimum length is 1. We need to spot some outliers and get rid of them. Counting how many outliers are there\n",
        "print('Number of articles with less than 50 words: ', len(train[train['length'] < 50]))\n",
        "\n",
        "# Skimming through such short texts just to be sure\n",
        "print(train['text'][train['length'] < 50])\n",
        "\n",
        "# Removing outliers, it will reduce overfitting\n",
        "train = train.drop(train['text'][train['length'] < 50].index, axis = 0)\n",
        "\n",
        "print('Minimum Length: ', min(train['length']), '\\nMaximum Length: ', max(train['length']), '\\nAverage Length: ', round(sum(train['length'])/len(train['length'])))"
      ],
      "execution_count": null,
      "outputs": [
        {
          "output_type": "stream",
          "name": "stdout",
          "text": [
            "Number of articles with less than 50 words:  14\n",
            "82                                                \n",
            "169                                               \n",
            "173                                Guest   Guest  \n",
            "196         They got the heater turned up on high.\n",
            "295                                               \n",
            "470                                               \n",
            "485    Support Us Calgary Airport Arrivals YYC \\n \n",
            "580                                   Ludicrous...\n",
            "592                                               \n",
            "786                                              f\n",
            "871                                               \n",
            "901                                               \n",
            "936                                               \n",
            "950                                               \n",
            "Name: text, dtype: object\n",
            "Minimum Length:  54 \n",
            "Maximum Length:  92561 \n",
            "Average Length:  4879\n"
          ]
        }
      ]
    },
    {
      "cell_type": "code",
      "metadata": {
        "id": "cD3joB5D2R-v"
      },
      "source": [
        "# Secluding labels in a new pandas dataframe for supervised learning\n",
        "train_labels = train['label']\n",
        "\n",
        "# Splitting data into training and testing sets\n",
        "x_train, x_test, y_train, y_test = train_test_split(train['text'], train_labels, test_size=0.1, random_state=0)"
      ],
      "execution_count": null,
      "outputs": []
    },
    {
      "cell_type": "markdown",
      "metadata": {
        "id": "R2raXRpi5Kev"
      },
      "source": [
        "### TF-IDF Vectors as features"
      ]
    },
    {
      "cell_type": "code",
      "metadata": {
        "id": "01JpVCMs2R-v"
      },
      "source": [
        "# Setting up Term Frequency - Inverse Document Frequency Vectorizer\n",
        "tfidf = TfidfVectorizer(stop_words = 'english', max_df = 0.7)\n",
        "\n",
        "# Fit and transform training set and transform test set\n",
        "tfidf_train = tfidf.fit_transform(x_train) \n",
        "tfidf_test = tfidf.transform(x_test)\n",
        "tfidf_test_final = tfidf.transform(test['text'])"
      ],
      "execution_count": null,
      "outputs": []
    },
    {
      "cell_type": "code",
      "metadata": {
        "id": "HgI3Vycd2R-w",
        "colab": {
          "base_uri": "https://localhost:8080/"
        },
        "outputId": "5fca1e04-7af9-49a2-a57f-becff8010ad7"
      },
      "source": [
        "# Setting up Passive Aggressive Classifier\n",
        "pac = PassiveAggressiveClassifier(max_iter = 50)\n",
        "\n",
        "# Fitting on the training set\n",
        "pac.fit(tfidf_train, y_train)\n",
        "\n",
        "# Predicting on the test set\n",
        "y_pred = pac.predict(tfidf_test)\n",
        "score = accuracy_score(y_test, y_pred)\n",
        "print(f'Accuracy: {round(score * 100, 2)}%')"
      ],
      "execution_count": null,
      "outputs": [
        {
          "output_type": "stream",
          "name": "stdout",
          "text": [
            "Accuracy: 90.91%\n"
          ]
        }
      ]
    },
    {
      "cell_type": "code",
      "metadata": {
        "id": "qHBSuyk92R-x",
        "colab": {
          "base_uri": "https://localhost:8080/",
          "height": 471
        },
        "outputId": "54941679-3f2e-4ebd-9ccc-f165d6189cf7"
      },
      "source": [
        "# Creating confusion matrix with columns as True Positive, False Negative, False Positive and True Negative \n",
        "cm = confusion_matrix(y_test, y_pred, labels=[0, 1])\n",
        "df_cm = pd.DataFrame(cm, range(2), range(2))\n",
        "sn.set(font_scale=1)\n",
        "sn.heatmap(df_cm, annot=True, annot_kws={'size':14}, fmt='d').set_title('Confusion Matrix')\n",
        "plt.show()\n",
        "\n",
        "# Creating classification report\n",
        "print('\\nClassification Report: \\n', classification_report(y_test, (y_pred > 0.5)))"
      ],
      "execution_count": null,
      "outputs": [
        {
          "output_type": "display_data",
          "data": {
            "image/png": "[encoded data removed]",
            "text/plain": [
              "<Figure size 432x288 with 2 Axes>"
            ]
          },
          "metadata": {}
        },
        {
          "output_type": "stream",
          "name": "stdout",
          "text": [
            "\n",
            "Classification Report: \n",
            "               precision    recall  f1-score   support\n",
            "\n",
            "           0       0.90      0.91      0.91        47\n",
            "           1       0.92      0.90      0.91        52\n",
            "\n",
            "    accuracy                           0.91        99\n",
            "   macro avg       0.91      0.91      0.91        99\n",
            "weighted avg       0.91      0.91      0.91        99\n",
            "\n"
          ]
        }
      ]
    }
  ]
}