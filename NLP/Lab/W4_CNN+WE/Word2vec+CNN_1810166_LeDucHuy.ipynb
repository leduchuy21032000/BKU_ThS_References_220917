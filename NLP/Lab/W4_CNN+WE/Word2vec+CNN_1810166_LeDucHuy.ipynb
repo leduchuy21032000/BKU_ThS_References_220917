{
  "nbformat": 4,
  "nbformat_minor": 0,
  "metadata": {
    "colab": {
      "name": "Word2vec+CNN_1810166_LeDucHuy.ipynb",
      "provenance": [],
      "collapsed_sections": []
    },
    "kernelspec": {
      "name": "python3",
      "display_name": "Python 3"
    },
    "language_info": {
      "name": "python"
    },
    "accelerator": "GPU"
  },
  "cells": [
    {
      "cell_type": "code",
      "metadata": {
        "id": "l77ZPyGadtmL"
      },
      "source": [
        "import tensorflow as tf\n",
        "import pandas as pd \n",
        "import numpy as np\n",
        "from string import digits\n",
        "from collections import Counter\n",
        "from gensim.models.word2vec import Word2Vec\n",
        "from keras.utils.np_utils import to_categorical\n",
        "%matplotlib inline"
      ],
      "execution_count": null,
      "outputs": []
    },
    {
      "cell_type": "code",
      "metadata": {
        "id": "9Dtd3Mb5eKBp"
      },
      "source": [
        "import keras\n",
        "from tensorflow.python.client import device_lib"
      ],
      "execution_count": null,
      "outputs": []
    },
    {
      "cell_type": "code",
      "metadata": {
        "id": "bhYMKpj3eR7X"
      },
      "source": [
        "import numpy as np\n",
        "import pandas as pd\n",
        "from collections import defaultdict\n",
        "import re\n",
        "\n",
        "from bs4 import BeautifulSoup\n",
        "\n",
        "import sys\n",
        "import os\n",
        "\n",
        "from keras.preprocessing.text import Tokenizer\n",
        "from keras.preprocessing.sequence import pad_sequences\n",
        "from keras.utils.np_utils import to_categorical\n",
        "\n",
        "from keras.layers import Embedding\n",
        "from keras.layers import Dense, Input, Flatten\n",
        "from keras.layers import Conv1D, MaxPooling1D, Embedding, merge, Dropout\n",
        "from keras.models import Model\n",
        "\n",
        "MAX_SEQUENCE_LENGTH = 1000\n",
        "MAX_NB_WORDS = 200000\n",
        "EMBEDDING_DIM = 100\n",
        "VALIDATION_SPLIT = 0.2"
      ],
      "execution_count": null,
      "outputs": []
    },
    {
      "cell_type": "code",
      "metadata": {
        "id": "vZxpMirve1WE"
      },
      "source": [
        "def clean_str(string):\n",
        "    \"\"\"\n",
        "    Cleaning of dataset\n",
        "    \"\"\"\n",
        "    string = re.sub(r\"\\\\\", \"\", string)    \n",
        "    string = re.sub(r\"\\'\", \"\", string)    \n",
        "    string = re.sub(r\"\\\"\", \"\", string)    \n",
        "    return string.strip().lower()"
      ],
      "execution_count": null,
      "outputs": []
    },
    {
      "cell_type": "markdown",
      "metadata": {
        "id": "cMz0p9TWfLcg"
      },
      "source": [
        "Dataset preparation\n",
        "The goal here is to identify whether a \"news\" article is fake or fact. \n",
        "Dataset (\"fake_news_train.csv\") which contains the following features:\n",
        "- id: unique id for a news article\n",
        "- title: the title of a news article\n",
        "- author: author of the news article\n",
        "- text: the text of the article; could be incomplete\n",
        "- label: a label that marks the article as potentially unreliable\n",
        "  - 1: unreliable (fake news)\n",
        "  - 0: reliable (fact news)\n",
        "  \n",
        "Dataset (\"fake_news_test,csv\") is the same as train dataset, but the test dataset does not have \"label\" feature"
      ]
    },
    {
      "cell_type": "code",
      "metadata": {
        "colab": {
          "base_uri": "https://localhost:8080/"
        },
        "id": "bbuPkkGtjiwp",
        "outputId": "06e2a732-6cb5-49c6-e5bf-dcc7a305c6d4"
      },
      "source": [
        "from google.colab import drive\n",
        "drive.mount('/content/drive')"
      ],
      "execution_count": null,
      "outputs": [
        {
          "output_type": "stream",
          "name": "stdout",
          "text": [
            "Mounted at /content/drive\n"
          ]
        }
      ]
    },
    {
      "cell_type": "code",
      "metadata": {
        "colab": {
          "base_uri": "https://localhost:8080/"
        },
        "id": "Yiofj9XufOoF",
        "outputId": "038ea5ec-257b-45ad-e07b-d72e221b9024"
      },
      "source": [
        "# Input Data preprocessing\n",
        "data_train = pd.read_csv('/content/drive/My Drive/Colab_Notebooks/fake_news_train.csv')\n",
        "# Google drive link to download my personal 'fake_news_train' file: https://drive.google.com/file/d/1b4FOW9igW1YzGWjmgcLU3paXXaolS4kX/view?usp=sharing\n",
        "print(data_train.columns)\n",
        "print('What the raw input data looks like:')\n",
        "print(data_train[0:5])\n",
        "texts = []\n",
        "labels = []\n",
        "\n",
        "for i in range(data_train.text.shape[0]):\n",
        "    text1 = data_train.title[i]\n",
        "    text2 = data_train.text[i]\n",
        "    text = str(text1) +\"\"+ str(text2)\n",
        "    texts.append(text)\n",
        "    labels.append(data_train.label[i])\n",
        "    \n",
        "tokenizer = Tokenizer(num_words=MAX_NB_WORDS)\n",
        "tokenizer.fit_on_texts(texts)\n",
        "sequences = tokenizer.texts_to_sequences(texts)\n",
        "\n",
        "word_index = tokenizer.word_index\n",
        "print('Found %s unique tokens.' % len(word_index))"
      ],
      "execution_count": null,
      "outputs": [
        {
          "output_type": "stream",
          "name": "stdout",
          "text": [
            "Index(['id', 'title', 'author', 'text', 'label'], dtype='object')\n",
            "What the raw input data looks like:\n",
            "   id  ... label\n",
            "0   0  ...     1\n",
            "1   1  ...     0\n",
            "2   2  ...     1\n",
            "3   3  ...     1\n",
            "4   4  ...     1\n",
            "\n",
            "[5 rows x 5 columns]\n",
            "Found 251876 unique tokens.\n"
          ]
        }
      ]
    },
    {
      "cell_type": "code",
      "metadata": {
        "colab": {
          "base_uri": "https://localhost:8080/"
        },
        "id": "93eNNTwPfn57",
        "outputId": "580fbefd-0372-4bdf-8855-bd0dccd70528"
      },
      "source": [
        "# Pad input sequences\n",
        "data = pad_sequences(sequences, maxlen=MAX_SEQUENCE_LENGTH)\n",
        "labels = to_categorical(np.asarray(labels),num_classes = 2)\n",
        "print('Shape of data tensor:', data.shape)\n",
        "print('Shape of label tensor:', labels.shape)"
      ],
      "execution_count": null,
      "outputs": [
        {
          "output_type": "stream",
          "name": "stdout",
          "text": [
            "Shape of data tensor: (20800, 1000)\n",
            "Shape of label tensor: (20800, 2)\n"
          ]
        }
      ]
    },
    {
      "cell_type": "code",
      "metadata": {
        "colab": {
          "base_uri": "https://localhost:8080/"
        },
        "id": "fOOkffEbfwhZ",
        "outputId": "690ea29b-4d1a-43c4-ffe2-aab6e67739e6"
      },
      "source": [
        "# Train test validation Split\n",
        "from sklearn.model_selection import train_test_split\n",
        "\n",
        "indices = np.arange(data.shape[0])\n",
        "np.random.shuffle(indices)\n",
        "data = data[indices]\n",
        "labels = labels[indices]\n",
        "x_train, x_test, y_train, y_test = train_test_split( data, labels, test_size=0.20, random_state=42)\n",
        "x_test, x_val, y_test, y_val = train_test_split( data, labels, test_size=0.50, random_state=42)\n",
        "print('Size of train, validation, test:', len(y_train), len(y_val), len(y_test))\n",
        "\n",
        "print('real & fake news in train,valt,test:')\n",
        "print(y_train.sum(axis=0))\n",
        "print(y_val.sum(axis=0))\n",
        "print(y_test.sum(axis=0))"
      ],
      "execution_count": null,
      "outputs": [
        {
          "output_type": "stream",
          "name": "stdout",
          "text": [
            "Size of train, validation, test: 16640 10400 10400\n",
            "real & fake news in train,valt,test:\n",
            "[8264. 8376.]\n",
            "[5194. 5206.]\n",
            "[5193. 5207.]\n"
          ]
        }
      ]
    },
    {
      "cell_type": "code",
      "metadata": {
        "colab": {
          "base_uri": "https://localhost:8080/"
        },
        "id": "N_-9QK40f35o",
        "outputId": "47878cc2-7312-45ee-bc29-8263e8beceaf"
      },
      "source": [
        "# Using Pre-trained word embeddings\n",
        "GLOVE_DIR = \"/content/drive/My Drive/Colab_Notebooks\" \n",
        "embeddings_index = {}\n",
        "f = open(os.path.join(GLOVE_DIR, 'glove.6B.100d.txt'), 'r', encoding='utf-8')\n",
        "# Google drive link to download my personal 'glove.6B.100d.txt' file: https://drive.google.com/file/d/1Mcx9wR4XId2RTb_lXlu6uoIlmtkA7gDL/view?usp=sharing\n",
        "\n",
        "for line in f:\n",
        "    values = line.split()\n",
        "    #print(values[1:])\n",
        "    word = values[0]\n",
        "    coefs = np.asarray(values[1:], dtype='float32')\n",
        "    embeddings_index[word] = coefs\n",
        "f.close()\n",
        "\n",
        "print('Total %s word vectors in Glove.' % len(embeddings_index))\n",
        "\n",
        "embedding_matrix = np.random.random((len(word_index) + 1, EMBEDDING_DIM))\n",
        "for word, i in word_index.items():\n",
        "    embedding_vector = embeddings_index.get(word)\n",
        "    if embedding_vector is not None:\n",
        "        # words not found in embedding index will be all-zeros.\n",
        "        embedding_matrix[i] = embedding_vector\n",
        "        \n",
        "embedding_layer = Embedding(len(word_index) + 1,\n",
        "                            EMBEDDING_DIM,\n",
        "                            weights=[embedding_matrix],\n",
        "                            input_length=MAX_SEQUENCE_LENGTH)"
      ],
      "execution_count": null,
      "outputs": [
        {
          "output_type": "stream",
          "name": "stdout",
          "text": [
            "Total 400000 word vectors in Glove.\n"
          ]
        }
      ]
    },
    {
      "cell_type": "code",
      "metadata": {
        "colab": {
          "base_uri": "https://localhost:8080/"
        },
        "id": "8ubwXgAUghLn",
        "outputId": "cd0fe83c-578e-4dbd-986f-9af2a8df193a"
      },
      "source": [
        "# Simple CNN model\n",
        "sequence_input = Input(shape=(MAX_SEQUENCE_LENGTH,), dtype='int32')\n",
        "embedded_sequences = embedding_layer(sequence_input)\n",
        "l_cov1= Conv1D(128, 5, activation='relu')(embedded_sequences)\n",
        "l_pool1 = MaxPooling1D(5)(l_cov1)\n",
        "l_cov2 = Conv1D(128, 5, activation='relu')(l_pool1)\n",
        "l_pool2 = MaxPooling1D(5)(l_cov2)\n",
        "l_cov3 = Conv1D(128, 5, activation='relu')(l_pool2)\n",
        "l_pool3 = MaxPooling1D(35)(l_cov3)  # global max pooling\n",
        "l_flat = Flatten()(l_pool3)\n",
        "l_dense = Dense(128, activation='relu')(l_flat)\n",
        "preds = Dense(2, activation='softmax')(l_dense)\n",
        "\n",
        "model = Model(sequence_input, preds)\n",
        "model.compile(loss='categorical_crossentropy',\n",
        "              optimizer='adadelta',\n",
        "              metrics=['acc'])\n",
        "\n",
        "print(\"Fitting the simple convolutional neural network model\")\n",
        "model.summary()\n",
        "history = model.fit(x_train, y_train, validation_data=(x_val, y_val),\n",
        "          epochs=3, batch_size=128)\n"
      ],
      "execution_count": null,
      "outputs": [
        {
          "output_type": "stream",
          "name": "stdout",
          "text": [
            "Fitting the simple convolutional neural network model\n",
            "Model: \"model\"\n",
            "_________________________________________________________________\n",
            "Layer (type)                 Output Shape              Param #   \n",
            "=================================================================\n",
            "input_1 (InputLayer)         [(None, 1000)]            0         \n",
            "_________________________________________________________________\n",
            "embedding (Embedding)        (None, 1000, 100)         25187700  \n",
            "_________________________________________________________________\n",
            "conv1d (Conv1D)              (None, 996, 128)          64128     \n",
            "_________________________________________________________________\n",
            "max_pooling1d (MaxPooling1D) (None, 199, 128)          0         \n",
            "_________________________________________________________________\n",
            "conv1d_1 (Conv1D)            (None, 195, 128)          82048     \n",
            "_________________________________________________________________\n",
            "max_pooling1d_1 (MaxPooling1 (None, 39, 128)           0         \n",
            "_________________________________________________________________\n",
            "conv1d_2 (Conv1D)            (None, 35, 128)           82048     \n",
            "_________________________________________________________________\n",
            "max_pooling1d_2 (MaxPooling1 (None, 1, 128)            0         \n",
            "_________________________________________________________________\n",
            "flatten (Flatten)            (None, 128)               0         \n",
            "_________________________________________________________________\n",
            "dense (Dense)                (None, 128)               16512     \n",
            "_________________________________________________________________\n",
            "dense_1 (Dense)              (None, 2)                 258       \n",
            "=================================================================\n",
            "Total params: 25,432,694\n",
            "Trainable params: 25,432,694\n",
            "Non-trainable params: 0\n",
            "_________________________________________________________________\n",
            "Epoch 1/3\n",
            "130/130 [==============================] - 44s 92ms/step - loss: 0.7828 - acc: 0.5034 - val_loss: 0.7169 - val_acc: 0.5006\n",
            "Epoch 2/3\n",
            "130/130 [==============================] - 12s 89ms/step - loss: 0.6898 - acc: 0.5063 - val_loss: 0.6738 - val_acc: 0.5414\n",
            "Epoch 3/3\n",
            "130/130 [==============================] - 12s 89ms/step - loss: 0.6654 - acc: 0.5951 - val_loss: 0.6586 - val_acc: 0.6174\n"
          ]
        }
      ]
    },
    {
      "cell_type": "code",
      "metadata": {
        "id": "fI_kVXoukbma",
        "colab": {
          "base_uri": "https://localhost:8080/",
          "height": 590
        },
        "outputId": "1b50ac6b-a47c-498c-8346-b8a19f5bc399"
      },
      "source": [
        "import matplotlib.pyplot as plt\n",
        "%matplotlib inline \n",
        "# list all data in history\n",
        "print(history.history.keys())\n",
        "# summarize history for accuracy\n",
        "plt.plot(history.history['acc'])\n",
        "plt.plot(history.history['val_acc'])\n",
        "plt.title('model accuracy')\n",
        "plt.ylabel('accuracy')\n",
        "plt.xlabel('epoch')\n",
        "plt.legend(['train', 'test'], loc='upper left')\n",
        "plt.show()\n",
        "# summarize history for loss\n",
        "plt.plot(history.history['loss'])\n",
        "plt.plot(history.history['val_loss'])\n",
        "plt.title('model loss')\n",
        "plt.ylabel('loss')\n",
        "plt.xlabel('epoch')\n",
        "plt.legend(['train', 'test'], loc='upper left')\n",
        "plt.show()"
      ],
      "execution_count": null,
      "outputs": [
        {
          "output_type": "stream",
          "name": "stdout",
          "text": [
            "dict_keys(['loss', 'acc', 'val_loss', 'val_acc'])\n"
          ]
        },
        {
          "output_type": "display_data",
          "data": {
            "image/png": "[encoded data removed]",
            "text/plain": [
              "<Figure size 432x288 with 1 Axes>"
            ]
          },
          "metadata": {
            "needs_background": "light"
          }
        },
        {
          "output_type": "display_data",
          "data": {
            "image/png": "[encoded data removed]",
            "text/plain": [
              "<Figure size 432x288 with 1 Axes>"
            ]
          },
          "metadata": {
            "needs_background": "light"
          }
        }
      ]
    }
  ]
}